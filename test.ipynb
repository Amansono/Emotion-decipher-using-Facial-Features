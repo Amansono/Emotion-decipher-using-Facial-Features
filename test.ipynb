import os
import pandas as pd
import numpy as np
from tqdm.notebook import tqdm
from keras.models import Sequential, model_from_json
from keras.layers import Dense, Conv2D, Dropout, Flatten, MaxPooling2D
from keras.utils import to_categorical
from sklearn.preprocessing import LabelEncoder
from tensorflow.keras.preprocessing.image import img_to_array, load_img  # Corrected import
from PIL import Image  # Importing Image from PIL for resizing
import matplotlib.pyplot as plt
